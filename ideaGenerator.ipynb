{
 "cells": [
  {
   "cell_type": "markdown",
   "metadata": {},
   "source": [
    "# Idea Generator\n",
    "This notebook uses OpenAI and the Github API to generate project ideas for you\n",
    "\n",
    "# Instructions\n",
    "* Fill out the example.env file and rename it to .env\n",
    "* Run the cells below in order to generate 20 proejct ideas"
   ]
  },
  {
   "cell_type": "code",
   "execution_count": null,
   "metadata": {},
   "outputs": [],
   "source": [
    "import requests\n",
    "import os\n",
    "\n",
    "url = 'https://api.github.com/user/repos'\n",
    "apiKey = os.environ.get('GITHUB_API_KEY')\n",
    "headers = {\n",
    "    'Authorization': 'Bearer '+apiKey,\n",
    "    'Accept': 'application/vnd.github+json',\n",
    "    'X-GitHub-Api-Version': '2022-11-28'\n",
    "    }\n",
    "\n",
    "response = requests.get(url, headers=headers)\n",
    "\n",
    "prompt = \"This is a list of all of my github repositories. Please read the following to get an idea of the kind of programmer I am and what I am interested in:\\n\"\n",
    "\n",
    "if response.status_code == 200:\n",
    "    repos = response.json()\n",
    "    for repo in repos:\n",
    "        name = (repo[\"name\"])\n",
    "        desc = (repo[\"description\"])\n",
    "        lang = (repo[\"languages_url\"])\n",
    "        prompt += \"Repo: \" + name + \"\\nDescription: \" + str(desc) + \"\\nPrimary programming language of Repo: \" + lang +\"\\n\"\n",
    "else:\n",
    "    print(f\"Error: {response.status_code}\")\n",
    "    print(response.text)\n",
    "\n",
    "prompt += \"\\nPretend you are steve jobs and you are my father. I have come to you and shown you this github and asked for some new project ideas. I am looking to push the boundries of my knowledge but need projects that capture my interest and have a basis in reality, elements of being a puzzle in order to stay engaged. Give me 20 interesting ideas of projects to build. Include variety, not only blockchain or backend projects for example\"\n",
    "print(prompt)\n"
   ]
  },
  {
   "cell_type": "code",
   "execution_count": 36,
   "metadata": {},
   "outputs": [],
   "source": [
    "prompt +=\" Be specific. Avoid ideas of 'platforms' and other difficult to scale businesses, aim for ideas targeted for specific needs such as SAS producs. Introduce each idea from the perspective of a client asking for it's development. Do not request a system for storage and/or transfer of data.\\n{Example Response: I am a Pizza resturant owner, I want you to build me a POS system for pizza orders that utilizes blockchain for payments}{Example Response: I am a travel agency. I want you to build me an interface for visualizing certain flight prices over time}\""
   ]
  },
  {
   "cell_type": "code",
   "execution_count": null,
   "metadata": {},
   "outputs": [],
   "source": [
    "import openai\n",
    "### OPEN AI Stuff for Generating Capy Images with DALL-E AI\n",
    "apiKey = os.environ.get('OPENAI_API_KEY')\n",
    "openai.api_key = apiKey\n",
    "\n",
    "def handlePrompt():\n",
    "    response = openai.Completion.create(\n",
    "        model=\"text-davinci-003\",\n",
    "        prompt=prompt,\n",
    "        temperature=0.6,\n",
    "        max_tokens=1500\n",
    "    )\n",
    "    return response[\"choices\"][0][\"text\"]\n",
    "\n",
    "\n",
    "print(handlePrompt())"
   ]
  }
 ],
 "metadata": {
  "kernelspec": {
   "display_name": "Python 3",
   "language": "python",
   "name": "python3"
  },
  "language_info": {
   "codemirror_mode": {
    "name": "ipython",
    "version": 3
   },
   "file_extension": ".py",
   "mimetype": "text/x-python",
   "name": "python",
   "nbconvert_exporter": "python",
   "pygments_lexer": "ipython3",
   "version": "3.10.12"
  }
 },
 "nbformat": 4,
 "nbformat_minor": 2
}
